{
 "cells": [
  {
   "cell_type": "code",
   "execution_count": 31,
   "metadata": {},
   "outputs": [],
   "source": [
    "import pandas as pd\n",
    "import numpy as np\n",
    "import geopandas as gpd\n",
    "from shapely.geometry import Polygon, Point\n",
    "import ast\n",
    "\n",
    "# import dfs\n",
    "buildings_df = pd.read_csv('Processed_Building_Footprints.csv')\n",
    "ground_df = pd.read_csv(\"Training_data_uhi_index_UHI2025-v2.csv\")\n",
    "\n",
    "# clean dfs\n",
    "buildings_df = buildings_df.drop(columns = ['path', 'id', 'tessellate', 'extrude', 'visibility'])\n"
   ]
  },
  {
   "cell_type": "markdown",
   "metadata": {},
   "source": [
    "# Test"
   ]
  },
  {
   "cell_type": "code",
   "execution_count": 32,
   "metadata": {},
   "outputs": [
    {
     "name": "stdout",
     "output_type": "stream",
     "text": [
      "   Longitude   Latitude          datetime  UHI Index  building_area_25  \\\n",
      "0 -73.909167  40.813107  24-07-2021 15:53   1.030289        183.978594   \n",
      "1 -73.909187  40.813045  24-07-2021 15:53   1.030289        266.930647   \n",
      "2 -73.909215  40.812978  24-07-2021 15:53   1.023798        321.122238   \n",
      "3 -73.909242  40.812908  24-07-2021 15:53   1.023798        343.873068   \n",
      "4 -73.909257  40.812845  24-07-2021 15:53   1.021634        382.402733   \n",
      "\n",
      "   building_area_50  building_area_100  \n",
      "0       1597.323120       11046.690248  \n",
      "1       1729.473614       10814.226850  \n",
      "2       1951.435804       10525.136565  \n",
      "3       2287.039351       10446.113598  \n",
      "4       2652.734741       10479.891453  \n"
     ]
    }
   ],
   "source": [
    "buildings_df['coordinates'] = buildings_df['coordinates'].apply(ast.literal_eval)\n",
    "buildings_df['geometry'] = buildings_df['coordinates'].apply(Polygon)\n",
    "\n",
    "gdf_buildings = gpd.GeoDataFrame(buildings_df, geometry='geometry', crs=\"EPSG:4326\")\n",
    "\n",
    "gdf_ground = gpd.GeoDataFrame(\n",
    "    ground_df,\n",
    "    geometry=gpd.points_from_xy(ground_df['Longitude'], ground_df['Latitude']),\n",
    "    crs=\"EPSG:4326\"\n",
    ")\n",
    "\n",
    "\n",
    "gdf_buildings = gdf_buildings.to_crs(\"EPSG:32618\")\n",
    "gdf_ground = gdf_ground.to_crs(\"EPSG:32618\")\n",
    "\n",
    "def calculate_building_area(point, buildings, buffer_size):\n",
    "    buffer = point.buffer(buffer_size)\n",
    "    intersecting_buildings = buildings[buildings.intersects(buffer)]\n",
    "    total_area = intersecting_buildings.geometry.intersection(buffer).area.sum()\n",
    "    return total_area\n",
    "\n",
    "gdf_ground['building_area_25']  = gdf_ground.geometry.apply(lambda pt: calculate_building_area(pt, gdf_buildings, 25))\n",
    "gdf_ground['building_area_50']  = gdf_ground.geometry.apply(lambda pt: calculate_building_area(pt, gdf_buildings, 50))\n",
    "gdf_ground['building_area_100'] = gdf_ground.geometry.apply(lambda pt: calculate_building_area(pt, gdf_buildings, 100))\n",
    "\n",
    "# Optionally, convert back to a pandas DataFrame if you don't need the geometry column:\n",
    "result_df = pd.DataFrame(gdf_ground.drop(columns='geometry'))\n",
    "\n",
    "result_df.head()\n"
   ]
  },
  {
   "cell_type": "code",
   "execution_count": 34,
   "metadata": {},
   "outputs": [],
   "source": [
    "result_df.to_csv(\"Building_Area.csv\", index = False)"
   ]
  },
  {
   "cell_type": "code",
   "execution_count": null,
   "metadata": {},
   "outputs": [],
   "source": []
  }
 ],
 "metadata": {
  "kernelspec": {
   "display_name": "Python 3",
   "language": "python",
   "name": "python3"
  },
  "language_info": {
   "codemirror_mode": {
    "name": "ipython",
    "version": 3
   },
   "file_extension": ".py",
   "mimetype": "text/x-python",
   "name": "python",
   "nbconvert_exporter": "python",
   "pygments_lexer": "ipython3",
   "version": "3.13.2"
  }
 },
 "nbformat": 4,
 "nbformat_minor": 2
}
