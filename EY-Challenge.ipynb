{
 "cells": [
  {
   "cell_type": "code",
   "execution_count": 2,
   "id": "b51c41dc-aa16-488e-ad7d-7b2557e4c779",
   "metadata": {},
   "outputs": [],
   "source": [
    "import pandas as pd\n",
    "data = pd.read_csv('Training_data_uhi_index_UHI2025-v2.csv')"
   ]
  },
  {
   "cell_type": "code",
   "execution_count": 3,
   "id": "b0f1e36c-63be-4454-bbf8-7630d923470c",
   "metadata": {},
   "outputs": [
    {
     "data": {
      "text/html": [
       "<div>\n",
       "<style scoped>\n",
       "    .dataframe tbody tr th:only-of-type {\n",
       "        vertical-align: middle;\n",
       "    }\n",
       "\n",
       "    .dataframe tbody tr th {\n",
       "        vertical-align: top;\n",
       "    }\n",
       "\n",
       "    .dataframe thead th {\n",
       "        text-align: right;\n",
       "    }\n",
       "</style>\n",
       "<table border=\"1\" class=\"dataframe\">\n",
       "  <thead>\n",
       "    <tr style=\"text-align: right;\">\n",
       "      <th></th>\n",
       "      <th>Longitude</th>\n",
       "      <th>Latitude</th>\n",
       "      <th>datetime</th>\n",
       "      <th>UHI Index</th>\n",
       "    </tr>\n",
       "  </thead>\n",
       "  <tbody>\n",
       "    <tr>\n",
       "      <th>0</th>\n",
       "      <td>-73.909167</td>\n",
       "      <td>40.813107</td>\n",
       "      <td>24-07-2021 15:53</td>\n",
       "      <td>1.030289</td>\n",
       "    </tr>\n",
       "    <tr>\n",
       "      <th>1</th>\n",
       "      <td>-73.909187</td>\n",
       "      <td>40.813045</td>\n",
       "      <td>24-07-2021 15:53</td>\n",
       "      <td>1.030289</td>\n",
       "    </tr>\n",
       "    <tr>\n",
       "      <th>2</th>\n",
       "      <td>-73.909215</td>\n",
       "      <td>40.812978</td>\n",
       "      <td>24-07-2021 15:53</td>\n",
       "      <td>1.023798</td>\n",
       "    </tr>\n",
       "    <tr>\n",
       "      <th>3</th>\n",
       "      <td>-73.909242</td>\n",
       "      <td>40.812908</td>\n",
       "      <td>24-07-2021 15:53</td>\n",
       "      <td>1.023798</td>\n",
       "    </tr>\n",
       "    <tr>\n",
       "      <th>4</th>\n",
       "      <td>-73.909257</td>\n",
       "      <td>40.812845</td>\n",
       "      <td>24-07-2021 15:53</td>\n",
       "      <td>1.021634</td>\n",
       "    </tr>\n",
       "    <tr>\n",
       "      <th>...</th>\n",
       "      <td>...</td>\n",
       "      <td>...</td>\n",
       "      <td>...</td>\n",
       "      <td>...</td>\n",
       "    </tr>\n",
       "    <tr>\n",
       "      <th>11224</th>\n",
       "      <td>-73.957050</td>\n",
       "      <td>40.790333</td>\n",
       "      <td>24-07-2021 15:57</td>\n",
       "      <td>0.972470</td>\n",
       "    </tr>\n",
       "    <tr>\n",
       "      <th>11225</th>\n",
       "      <td>-73.957063</td>\n",
       "      <td>40.790308</td>\n",
       "      <td>24-07-2021 15:57</td>\n",
       "      <td>0.972470</td>\n",
       "    </tr>\n",
       "    <tr>\n",
       "      <th>11226</th>\n",
       "      <td>-73.957093</td>\n",
       "      <td>40.790270</td>\n",
       "      <td>24-07-2021 15:57</td>\n",
       "      <td>0.981124</td>\n",
       "    </tr>\n",
       "    <tr>\n",
       "      <th>11227</th>\n",
       "      <td>-73.957112</td>\n",
       "      <td>40.790253</td>\n",
       "      <td>24-07-2021 15:59</td>\n",
       "      <td>0.981245</td>\n",
       "    </tr>\n",
       "    <tr>\n",
       "      <th>11228</th>\n",
       "      <td>-73.957128</td>\n",
       "      <td>40.790237</td>\n",
       "      <td>24-07-2021 15:59</td>\n",
       "      <td>0.983408</td>\n",
       "    </tr>\n",
       "  </tbody>\n",
       "</table>\n",
       "<p>11229 rows × 4 columns</p>\n",
       "</div>"
      ],
      "text/plain": [
       "       Longitude   Latitude          datetime  UHI Index\n",
       "0     -73.909167  40.813107  24-07-2021 15:53   1.030289\n",
       "1     -73.909187  40.813045  24-07-2021 15:53   1.030289\n",
       "2     -73.909215  40.812978  24-07-2021 15:53   1.023798\n",
       "3     -73.909242  40.812908  24-07-2021 15:53   1.023798\n",
       "4     -73.909257  40.812845  24-07-2021 15:53   1.021634\n",
       "...          ...        ...               ...        ...\n",
       "11224 -73.957050  40.790333  24-07-2021 15:57   0.972470\n",
       "11225 -73.957063  40.790308  24-07-2021 15:57   0.972470\n",
       "11226 -73.957093  40.790270  24-07-2021 15:57   0.981124\n",
       "11227 -73.957112  40.790253  24-07-2021 15:59   0.981245\n",
       "11228 -73.957128  40.790237  24-07-2021 15:59   0.983408\n",
       "\n",
       "[11229 rows x 4 columns]"
      ]
     },
     "execution_count": 3,
     "metadata": {},
     "output_type": "execute_result"
    }
   ],
   "source": [
    "data"
   ]
  },
  {
   "cell_type": "markdown",
   "id": "14b9cc8f-4abd-4cc4-9a1b-5c8479b2e99b",
   "metadata": {},
   "source": [
    "Many studies suggest that the density of buildings in a\n",
    "city influences ground temperatures and ultimately\n",
    "contribute to the UHI issue. [Reference 3] This effect is\n",
    "typically driven by buildings blocking the flow of air and\n",
    "adding waste heat. For this challenge, we have\n",
    "provided a building footprint dataset. Such information\n",
    "could be used in your digital model as a feature that\n",
    "drives local urban heating. "
   ]
  },
  {
   "cell_type": "markdown",
   "id": "b63f9465-0f08-4a97-8563-d4a845e2cbfc",
   "metadata": {},
   "source": [
    "Local weather data can also be an important\n",
    "feature in a UHI model. For example, high wind\n",
    "speeds can cause mixing of near-surface air and\n",
    "reduce UHI intensity and variability. Wind direction\n",
    "can also impact localized heating as building\n",
    "configurations can block local mixing of nearsurface air and cause increased urban heating.\n",
    "Finally, solar flux can be blocked by clouds or\n",
    "building configurations which could reduce local\n",
    "surface heating and near-surface air heating. "
   ]
  },
  {
   "cell_type": "markdown",
   "id": "e20eff0a-ef39-4250-b243-4046e9eed9d4",
   "metadata": {},
   "source": [
    " Up to ten semifinalists will be selected based on the highest overall accuracy in the form of a coefficient of determination (Rsquared)"
   ]
  },
  {
   "cell_type": "markdown",
   "id": "7fe1c59c-9395-465a-897c-9157246ac79e",
   "metadata": {},
   "source": [
    "<h10 style=\"color:rgb(255, 255, 0)\"><strong>Note: Participants are strictly prohibited from using Longitude and Latitude values as features in building their machine learning models. These values should only be utilized for understanding the attributes and characteristics of the locations. Submissions that employ longitude and latitude values as model features will be disqualified.</strong></h10>"
   ]
  }
 ],
 "metadata": {
  "kernelspec": {
   "display_name": "Python 3 (ipykernel)",
   "language": "python",
   "name": "python3"
  },
  "language_info": {
   "codemirror_mode": {
    "name": "ipython",
    "version": 3
   },
   "file_extension": ".py",
   "mimetype": "text/x-python",
   "name": "python",
   "nbconvert_exporter": "python",
   "pygments_lexer": "ipython3",
   "version": "3.12.7"
  }
 },
 "nbformat": 4,
 "nbformat_minor": 5
}
